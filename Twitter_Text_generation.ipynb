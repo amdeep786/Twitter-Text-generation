{
  "nbformat": 4,
  "nbformat_minor": 0,
  "metadata": {
    "accelerator": "GPU",
    "colab": {
      "name": "Twitter-Text-generation.ipynb",
      "provenance": [],
      "collapsed_sections": []
    },
    "kernelspec": {
      "display_name": "Python 3",
      "name": "python3"
    }
  },
  "cells": [
    {
      "cell_type": "code",
      "metadata": {
        "id": "3i2rd_teRGJv",
        "colab": {
          "base_uri": "https://localhost:8080/"
        },
        "outputId": "3062f9da-84e9-4918-ccb6-eefefa5f0460"
      },
      "source": [
        "import tensorflow as tf\n",
        "import sys\n",
        "print('TensorFlow version:', tf.__version__)\n",
        "\n",
        "device_name = tf.test.gpu_device_name()\n",
        "if device_name != '/device:GPU:0':\n",
        "   raise SystemError('GPU device not found')\n",
        "print('Found GPU at: {}'.format(device_name), '', sep='\\n')\n",
        "!nvidia-smi"
      ],
      "execution_count": 1,
      "outputs": [
        {
          "output_type": "stream",
          "name": "stdout",
          "text": [
            "TensorFlow version: 2.8.2\n",
            "Found GPU at: /device:GPU:0\n",
            "\n",
            "Mon Aug 15 18:36:29 2022       \n",
            "+-----------------------------------------------------------------------------+\n",
            "| NVIDIA-SMI 460.32.03    Driver Version: 460.32.03    CUDA Version: 11.2     |\n",
            "|-------------------------------+----------------------+----------------------+\n",
            "| GPU  Name        Persistence-M| Bus-Id        Disp.A | Volatile Uncorr. ECC |\n",
            "| Fan  Temp  Perf  Pwr:Usage/Cap|         Memory-Usage | GPU-Util  Compute M. |\n",
            "|                               |                      |               MIG M. |\n",
            "|===============================+======================+======================|\n",
            "|   0  Tesla T4            Off  | 00000000:00:04.0 Off |                    0 |\n",
            "| N/A   40C    P0    27W /  70W |    284MiB / 15109MiB |      1%      Default |\n",
            "|                               |                      |                  N/A |\n",
            "+-------------------------------+----------------------+----------------------+\n",
            "                                                                               \n",
            "+-----------------------------------------------------------------------------+\n",
            "| Processes:                                                                  |\n",
            "|  GPU   GI   CI        PID   Type   Process name                  GPU Memory |\n",
            "|        ID   ID                                                   Usage      |\n",
            "|=============================================================================|\n",
            "+-----------------------------------------------------------------------------+\n"
          ]
        }
      ]
    },
    {
      "cell_type": "code",
      "metadata": {
        "id": "F2O82Brfj8Ih"
      },
      "source": [
        "import requests, os, zipfile\n",
        "import numpy as np\n",
        "\n",
        "def download_file_from_google_drive(id, destination):\n",
        "    URL = \"https://docs.google.com/uc?export=download\"\n",
        "    session = requests.Session()\n",
        "    response = session.get(URL, params = { 'id' : id }, stream = True)\n",
        "    token = get_confirm_token(response)\n",
        "    if token:\n",
        "        params = { 'id' : id, 'confirm' : token }\n",
        "        response = session.get(URL, params = params, stream = True)\n",
        "    save_response_content(response, destination)    \n",
        "\n",
        "def get_confirm_token(response):\n",
        "    for key, value in response.cookies.items():\n",
        "        if key.startswith('download_warning'):\n",
        "            return value\n",
        "    return None\n",
        "\n",
        "def save_response_content(response, destination):\n",
        "    CHUNK_SIZE = 32768\n",
        "    with open(destination, \"wb\") as f:\n",
        "        for chunk in response.iter_content(CHUNK_SIZE):\n",
        "            if chunk:\n",
        "                f.write(chunk)\n",
        "    \n",
        "dataset_file = '/tmp/tweets.csv'\n",
        "download_file_from_google_drive('1xRKHaP-QwACMydlDnyFPEaFdtskJuBa6', dataset_file)\n"
      ],
      "execution_count": 2,
      "outputs": []
    },
    {
      "cell_type": "code",
      "metadata": {
        "id": "p864yInEI5En"
      },
      "source": [
        "from matplotlib import pyplot as plt\n",
        "\n",
        "def plot_history(history, ylim=None):\n",
        "  fig, (ax1, ax2) = plt.subplots(2,1, sharex=True, dpi=150)\n",
        "  ax1.plot(np.array(history.epoch)+1, history.history['loss'])\n",
        "  ax1.set_ylabel('Cross-Entropy Loss')\n",
        "  ax1.set_yscale('log')\n",
        "  ax1.grid(alpha=.5)\n",
        "  if history.history.__contains__('lr'):\n",
        "    ax1b = ax1.twinx()\n",
        "    ax1b.plot(history.history['lr'], 'g-', linewidth=1)\n",
        "    ax1b.set_yscale('log')\n",
        "    ax1b.set_ylabel('Learning Rate', color='g')\n",
        "\n",
        "  ax2.plot(np.array(history.epoch)+1, history.history['accuracy'])\n",
        "  ax2.set_ylabel('Accuracy')\n",
        "  ax2.set_xlabel('Epochs')\n",
        "  ax2.grid(alpha=.5)\n",
        "  if ylim:\n",
        "    ax2.set_ylim(ylim)\n",
        "  plt.show() "
      ],
      "execution_count": 3,
      "outputs": []
    },
    {
      "cell_type": "code",
      "metadata": {
        "id": "AsYbb_V2MqmK",
        "colab": {
          "base_uri": "https://localhost:8080/",
          "height": 206
        },
        "outputId": "8012c47c-e5c4-47ec-f059-cdcdf0f31712"
      },
      "source": [
        "import pandas as pd\n",
        "\n",
        "tweets = pd.read_csv(dataset_file, )\n",
        "tweets.head()"
      ],
      "execution_count": 4,
      "outputs": [
        {
          "output_type": "execute_result",
          "data": {
            "text/plain": [
              "                    id                                               text  \\\n",
              "0    98454970654916608  Republicans and Democrats have both created ou...   \n",
              "1  1234653427789070336  I was thrilled to be back in the Great city of...   \n",
              "2  1218010753434820614  RT @CBS_Herridge: READ: Letter to surveillance...   \n",
              "3  1304875170860015617  The Unsolicited Mail In Ballot Scam is a major...   \n",
              "4  1218159531554897920  RT @MZHemingway: Very friendly telling of even...   \n",
              "\n",
              "  isRetweet isDeleted              device  favorites  retweets  \\\n",
              "0         f         f           TweetDeck         49       255   \n",
              "1         f         f  Twitter for iPhone      73748     17404   \n",
              "2         t         f  Twitter for iPhone          0      7396   \n",
              "3         f         f  Twitter for iPhone      80527     23502   \n",
              "4         t         f  Twitter for iPhone          0      9081   \n",
              "\n",
              "                  date isFlagged  \n",
              "0  2011-08-02 18:07:48         f  \n",
              "1  2020-03-03 01:34:50         f  \n",
              "2  2020-01-17 03:22:47         f  \n",
              "3  2020-09-12 20:10:58         f  \n",
              "4  2020-01-17 13:13:59         f  "
            ],
            "text/html": [
              "\n",
              "  <div id=\"df-0a2bb0c3-0faf-432e-b913-af81ca305fd1\">\n",
              "    <div class=\"colab-df-container\">\n",
              "      <div>\n",
              "<style scoped>\n",
              "    .dataframe tbody tr th:only-of-type {\n",
              "        vertical-align: middle;\n",
              "    }\n",
              "\n",
              "    .dataframe tbody tr th {\n",
              "        vertical-align: top;\n",
              "    }\n",
              "\n",
              "    .dataframe thead th {\n",
              "        text-align: right;\n",
              "    }\n",
              "</style>\n",
              "<table border=\"1\" class=\"dataframe\">\n",
              "  <thead>\n",
              "    <tr style=\"text-align: right;\">\n",
              "      <th></th>\n",
              "      <th>id</th>\n",
              "      <th>text</th>\n",
              "      <th>isRetweet</th>\n",
              "      <th>isDeleted</th>\n",
              "      <th>device</th>\n",
              "      <th>favorites</th>\n",
              "      <th>retweets</th>\n",
              "      <th>date</th>\n",
              "      <th>isFlagged</th>\n",
              "    </tr>\n",
              "  </thead>\n",
              "  <tbody>\n",
              "    <tr>\n",
              "      <th>0</th>\n",
              "      <td>98454970654916608</td>\n",
              "      <td>Republicans and Democrats have both created ou...</td>\n",
              "      <td>f</td>\n",
              "      <td>f</td>\n",
              "      <td>TweetDeck</td>\n",
              "      <td>49</td>\n",
              "      <td>255</td>\n",
              "      <td>2011-08-02 18:07:48</td>\n",
              "      <td>f</td>\n",
              "    </tr>\n",
              "    <tr>\n",
              "      <th>1</th>\n",
              "      <td>1234653427789070336</td>\n",
              "      <td>I was thrilled to be back in the Great city of...</td>\n",
              "      <td>f</td>\n",
              "      <td>f</td>\n",
              "      <td>Twitter for iPhone</td>\n",
              "      <td>73748</td>\n",
              "      <td>17404</td>\n",
              "      <td>2020-03-03 01:34:50</td>\n",
              "      <td>f</td>\n",
              "    </tr>\n",
              "    <tr>\n",
              "      <th>2</th>\n",
              "      <td>1218010753434820614</td>\n",
              "      <td>RT @CBS_Herridge: READ: Letter to surveillance...</td>\n",
              "      <td>t</td>\n",
              "      <td>f</td>\n",
              "      <td>Twitter for iPhone</td>\n",
              "      <td>0</td>\n",
              "      <td>7396</td>\n",
              "      <td>2020-01-17 03:22:47</td>\n",
              "      <td>f</td>\n",
              "    </tr>\n",
              "    <tr>\n",
              "      <th>3</th>\n",
              "      <td>1304875170860015617</td>\n",
              "      <td>The Unsolicited Mail In Ballot Scam is a major...</td>\n",
              "      <td>f</td>\n",
              "      <td>f</td>\n",
              "      <td>Twitter for iPhone</td>\n",
              "      <td>80527</td>\n",
              "      <td>23502</td>\n",
              "      <td>2020-09-12 20:10:58</td>\n",
              "      <td>f</td>\n",
              "    </tr>\n",
              "    <tr>\n",
              "      <th>4</th>\n",
              "      <td>1218159531554897920</td>\n",
              "      <td>RT @MZHemingway: Very friendly telling of even...</td>\n",
              "      <td>t</td>\n",
              "      <td>f</td>\n",
              "      <td>Twitter for iPhone</td>\n",
              "      <td>0</td>\n",
              "      <td>9081</td>\n",
              "      <td>2020-01-17 13:13:59</td>\n",
              "      <td>f</td>\n",
              "    </tr>\n",
              "  </tbody>\n",
              "</table>\n",
              "</div>\n",
              "      <button class=\"colab-df-convert\" onclick=\"convertToInteractive('df-0a2bb0c3-0faf-432e-b913-af81ca305fd1')\"\n",
              "              title=\"Convert this dataframe to an interactive table.\"\n",
              "              style=\"display:none;\">\n",
              "        \n",
              "  <svg xmlns=\"http://www.w3.org/2000/svg\" height=\"24px\"viewBox=\"0 0 24 24\"\n",
              "       width=\"24px\">\n",
              "    <path d=\"M0 0h24v24H0V0z\" fill=\"none\"/>\n",
              "    <path d=\"M18.56 5.44l.94 2.06.94-2.06 2.06-.94-2.06-.94-.94-2.06-.94 2.06-2.06.94zm-11 1L8.5 8.5l.94-2.06 2.06-.94-2.06-.94L8.5 2.5l-.94 2.06-2.06.94zm10 10l.94 2.06.94-2.06 2.06-.94-2.06-.94-.94-2.06-.94 2.06-2.06.94z\"/><path d=\"M17.41 7.96l-1.37-1.37c-.4-.4-.92-.59-1.43-.59-.52 0-1.04.2-1.43.59L10.3 9.45l-7.72 7.72c-.78.78-.78 2.05 0 2.83L4 21.41c.39.39.9.59 1.41.59.51 0 1.02-.2 1.41-.59l7.78-7.78 2.81-2.81c.8-.78.8-2.07 0-2.86zM5.41 20L4 18.59l7.72-7.72 1.47 1.35L5.41 20z\"/>\n",
              "  </svg>\n",
              "      </button>\n",
              "      \n",
              "  <style>\n",
              "    .colab-df-container {\n",
              "      display:flex;\n",
              "      flex-wrap:wrap;\n",
              "      gap: 12px;\n",
              "    }\n",
              "\n",
              "    .colab-df-convert {\n",
              "      background-color: #E8F0FE;\n",
              "      border: none;\n",
              "      border-radius: 50%;\n",
              "      cursor: pointer;\n",
              "      display: none;\n",
              "      fill: #1967D2;\n",
              "      height: 32px;\n",
              "      padding: 0 0 0 0;\n",
              "      width: 32px;\n",
              "    }\n",
              "\n",
              "    .colab-df-convert:hover {\n",
              "      background-color: #E2EBFA;\n",
              "      box-shadow: 0px 1px 2px rgba(60, 64, 67, 0.3), 0px 1px 3px 1px rgba(60, 64, 67, 0.15);\n",
              "      fill: #174EA6;\n",
              "    }\n",
              "\n",
              "    [theme=dark] .colab-df-convert {\n",
              "      background-color: #3B4455;\n",
              "      fill: #D2E3FC;\n",
              "    }\n",
              "\n",
              "    [theme=dark] .colab-df-convert:hover {\n",
              "      background-color: #434B5C;\n",
              "      box-shadow: 0px 1px 3px 1px rgba(0, 0, 0, 0.15);\n",
              "      filter: drop-shadow(0px 1px 2px rgba(0, 0, 0, 0.3));\n",
              "      fill: #FFFFFF;\n",
              "    }\n",
              "  </style>\n",
              "\n",
              "      <script>\n",
              "        const buttonEl =\n",
              "          document.querySelector('#df-0a2bb0c3-0faf-432e-b913-af81ca305fd1 button.colab-df-convert');\n",
              "        buttonEl.style.display =\n",
              "          google.colab.kernel.accessAllowed ? 'block' : 'none';\n",
              "\n",
              "        async function convertToInteractive(key) {\n",
              "          const element = document.querySelector('#df-0a2bb0c3-0faf-432e-b913-af81ca305fd1');\n",
              "          const dataTable =\n",
              "            await google.colab.kernel.invokeFunction('convertToInteractive',\n",
              "                                                     [key], {});\n",
              "          if (!dataTable) return;\n",
              "\n",
              "          const docLinkHtml = 'Like what you see? Visit the ' +\n",
              "            '<a target=\"_blank\" href=https://colab.research.google.com/notebooks/data_table.ipynb>data table notebook</a>'\n",
              "            + ' to learn more about interactive tables.';\n",
              "          element.innerHTML = '';\n",
              "          dataTable['output_type'] = 'display_data';\n",
              "          await google.colab.output.renderOutput(dataTable, element);\n",
              "          const docLink = document.createElement('div');\n",
              "          docLink.innerHTML = docLinkHtml;\n",
              "          element.appendChild(docLink);\n",
              "        }\n",
              "      </script>\n",
              "    </div>\n",
              "  </div>\n",
              "  "
            ]
          },
          "metadata": {},
          "execution_count": 4
        }
      ]
    },
    {
      "cell_type": "code",
      "metadata": {
        "id": "m2lSfxLyMqo_",
        "colab": {
          "base_uri": "https://localhost:8080/"
        },
        "outputId": "01369ef7-678d-4957-d19c-a5acbf3fe1cd"
      },
      "source": [
        "print('Initial amount of Tweets:',len(tweets))\n",
        "tweets.drop(tweets[tweets.isRetweet == 't'].index, inplace=True)\n",
        "tweets.drop(tweets[tweets.favorites < 1e4].index, inplace=True)\n",
        "tweets.text = tweets.text.str.lower()\n",
        "tweets.text.replace(regex=r'https?:\\/\\/(www\\.)?[-a-z0-9@:%._\\+~#=]{1,256}\\.[a-z0-9()]{1,6}\\b([-a-z0-9()@:%_\\+.~#?&\\/=]*)', value='', inplace=True)\n",
        "tweets.drop(tweets[tweets.text.str.startswith('\"\"\"')].index, inplace=True)\n",
        "tweets.drop(tweets[tweets.text.str.startswith('\"via ')].index, inplace=True)\n",
        "tweets.text.replace(regex=r'[^a-z0-9,. ]', value='', inplace=True)\n",
        "tweets.drop(tweets[tweets.text.str.startswith('    ')].index, inplace=True)\n",
        "tweets.drop(tweets[tweets.text.map(len) < 50].index, inplace=True)\n",
        "print('Remaining Tweets:',len(tweets))"
      ],
      "execution_count": 5,
      "outputs": [
        {
          "output_type": "stream",
          "name": "stdout",
          "text": [
            "Initial amount of Tweets: 56571\n",
            "Remaining Tweets: 14847\n"
          ]
        }
      ]
    },
    {
      "cell_type": "code",
      "metadata": {
        "id": "u39ceeKjMquo",
        "colab": {
          "base_uri": "https://localhost:8080/"
        },
        "outputId": "a8e2aa9a-a4c6-4965-e625-7762f442aafa"
      },
      "source": [
        "tweets = tweets.text.to_list()\n",
        "\n",
        "vocabulary = ['&'] + list(set(char for tweet in tweets for char in tweet))\n",
        "print('{} unique characters'.format(len(vocabulary)))"
      ],
      "execution_count": 6,
      "outputs": [
        {
          "output_type": "stream",
          "name": "stdout",
          "text": [
            "40 unique characters\n"
          ]
        }
      ]
    },
    {
      "cell_type": "code",
      "metadata": {
        "id": "lXdPKRGPdb5I",
        "colab": {
          "base_uri": "https://localhost:8080/"
        },
        "outputId": "a4855e80-2348-4a53-c2ed-4c266d05ae78"
      },
      "source": [
        "char2idx = {u:i for i, u in enumerate(vocabulary)}\n",
        "idx2char = dict(map(reversed, char2idx.items()))\n",
        "\n",
        "print(char2idx)\n",
        "print(idx2char)"
      ],
      "execution_count": 7,
      "outputs": [
        {
          "output_type": "stream",
          "name": "stdout",
          "text": [
            "{'&': 0, 'j': 1, '7': 2, '6': 3, 'q': 4, '.': 5, 'l': 6, 'x': 7, 'y': 8, 's': 9, 'f': 10, 'b': 11, '8': 12, 'h': 13, 'p': 14, 't': 15, 'a': 16, 'z': 17, 'm': 18, 'v': 19, '4': 20, '0': 21, 'i': 22, 'o': 23, 'r': 24, 'c': 25, '3': 26, 'w': 27, ' ': 28, ',': 29, 'u': 30, '1': 31, 'e': 32, '5': 33, '2': 34, '9': 35, 'd': 36, 'g': 37, 'k': 38, 'n': 39}\n",
            "{0: '&', 1: 'j', 2: '7', 3: '6', 4: 'q', 5: '.', 6: 'l', 7: 'x', 8: 'y', 9: 's', 10: 'f', 11: 'b', 12: '8', 13: 'h', 14: 'p', 15: 't', 16: 'a', 17: 'z', 18: 'm', 19: 'v', 20: '4', 21: '0', 22: 'i', 23: 'o', 24: 'r', 25: 'c', 26: '3', 27: 'w', 28: ' ', 29: ',', 30: 'u', 31: '1', 32: 'e', 33: '5', 34: '2', 35: '9', 36: 'd', 37: 'g', 38: 'k', 39: 'n'}\n"
          ]
        }
      ]
    },
    {
      "cell_type": "code",
      "metadata": {
        "id": "VVPyFUk1MrDq",
        "colab": {
          "base_uri": "https://localhost:8080/"
        },
        "outputId": "26e40471-6e80-435f-edfa-1477a61c6724"
      },
      "source": [
        "def sequence_to_text(sequence):\n",
        "  text = [idx2char.get(char_idx) for char_idx in np.array(sequence) if char_idx]\n",
        "  return ''.join(text)\n",
        "\n",
        "def text_to_sequence(text):\n",
        "  sequence = [char2idx.get(char) for char in text]\n",
        "  return sequence\n",
        "\n",
        "print(text_to_sequence('foo bar'))\n",
        "print(sequence_to_text(text_to_sequence('foo bar')))"
      ],
      "execution_count": 8,
      "outputs": [
        {
          "output_type": "stream",
          "name": "stdout",
          "text": [
            "[10, 23, 23, 28, 11, 16, 24]\n",
            "foo bar\n"
          ]
        }
      ]
    },
    {
      "cell_type": "markdown",
      "metadata": {
        "id": "ZiyJmwarD5e1"
      },
      "source": [
        "# Multi Layer Perceptron"
      ]
    },
    {
      "cell_type": "code",
      "metadata": {
        "id": "-IrN4UVqGAFK"
      },
      "source": [
        "seq_length_mlp = 16\n",
        "\n",
        "combined_text = ' '.join([tweet for tweet in tweets])\n",
        "combined_sequence = text_to_sequence(combined_text)"
      ],
      "execution_count": 9,
      "outputs": []
    },
    {
      "cell_type": "code",
      "metadata": {
        "id": "_c0C4PHrEbfF"
      },
      "source": [
        "dataset = tf.data.Dataset.from_tensor_slices(combined_sequence)\n",
        "sequences_mlp = dataset.batch(seq_length_mlp+1, drop_remainder=True)"
      ],
      "execution_count": 10,
      "outputs": []
    },
    {
      "cell_type": "code",
      "metadata": {
        "id": "qyBf7GRJOXrH",
        "colab": {
          "base_uri": "https://localhost:8080/"
        },
        "outputId": "5f6c0ebc-70d0-4e70-ff5d-fd2594d83c0a"
      },
      "source": [
        "def split_input_target(sequence):\n",
        "  input_sequence = sequence[:-1]\n",
        "  target_sequence = sequence[-1]\n",
        "  return input_sequence, target_sequence\n",
        "\n",
        "dataset_mlp = sequences_mlp.map(split_input_target)\n",
        "dataset_mlp"
      ],
      "execution_count": 11,
      "outputs": [
        {
          "output_type": "execute_result",
          "data": {
            "text/plain": [
              "<MapDataset element_spec=(TensorSpec(shape=(16,), dtype=tf.int32, name=None), TensorSpec(shape=(), dtype=tf.int32, name=None))>"
            ]
          },
          "metadata": {},
          "execution_count": 11
        }
      ]
    },
    {
      "cell_type": "code",
      "metadata": {
        "id": "Yr307_EbGAHq",
        "colab": {
          "base_uri": "https://localhost:8080/"
        },
        "outputId": "fc10a5f4-9609-4779-a575-78b8ae4e01f3"
      },
      "source": [
        "for input_sample, target_sample in dataset_mlp.take(5):\n",
        "  print('Input sample: \"{}\"'.format(sequence_to_text(input_sample)))\n",
        "  print('Target sample: \"{}\"'.format(sequence_to_text([target_sample])))\n",
        "  print()"
      ],
      "execution_count": 12,
      "outputs": [
        {
          "output_type": "stream",
          "name": "stdout",
          "text": [
            "Input sample: \"i was thrilled t\"\n",
            "Target sample: \"o\"\n",
            "\n",
            "Input sample: \" be back in the \"\n",
            "Target sample: \"g\"\n",
            "\n",
            "Input sample: \"reat city of cha\"\n",
            "Target sample: \"r\"\n",
            "\n",
            "Input sample: \"lotte, north car\"\n",
            "Target sample: \"o\"\n",
            "\n",
            "Input sample: \"lina with thousa\"\n",
            "Target sample: \"n\"\n",
            "\n"
          ]
        }
      ]
    },
    {
      "cell_type": "code",
      "metadata": {
        "id": "BzEnCtMbMVEk",
        "colab": {
          "base_uri": "https://localhost:8080/"
        },
        "outputId": "e2865914-51cf-4443-d546-ed81a4c9f963"
      },
      "source": [
        "BATCH_SIZE = 64\n",
        "BUFFER_SIZE = 10000\n",
        "\n",
        "dataset_mlp = dataset_mlp.shuffle(BUFFER_SIZE).batch(BATCH_SIZE)\n",
        "dataset_mlp"
      ],
      "execution_count": 13,
      "outputs": [
        {
          "output_type": "execute_result",
          "data": {
            "text/plain": [
              "<BatchDataset element_spec=(TensorSpec(shape=(None, 16), dtype=tf.int32, name=None), TensorSpec(shape=(None,), dtype=tf.int32, name=None))>"
            ]
          },
          "metadata": {},
          "execution_count": 13
        }
      ]
    },
    {
      "cell_type": "code",
      "metadata": {
        "id": "WS8qlKASMVLb"
      },
      "source": [
        "from tensorflow.keras import layers, Model\n",
        "from tensorflow.keras.optimizers import Adam\n",
        "\n",
        "def build_model_mlp(vocabulary_size, embedding_dim, input_length, summary=True):\n",
        "\n",
        "  inputs = layers.Input(shape=(input_length))\n",
        "  x = layers.Embedding(vocabulary_size, embedding_dim)(inputs)\n",
        "  x = layers.Flatten()(x)\n",
        "\n",
        "  x = layers.Dense(1024, activation='relu')(x)\n",
        "  x = layers.Dropout(.2)(x)\n",
        "  x = layers.Dense(1024, activation='relu')(x)\n",
        "  x = layers.Dropout(.2)(x)\n",
        "  x = layers.Dense(1024, activation='relu')(x)\n",
        "  x = layers.Dropout(.2)(x)\n",
        "  out = layers.Dense(vocabulary_size,activation='softmax')(x)\n",
        "\n",
        "  model = Model(inputs, out, name='multi_layer_perceptron')\n",
        "  model.compile(loss='sparse_categorical_crossentropy',\n",
        "                optimizer=Adam(lr=1e-3),\n",
        "                metrics='accuracy')\n",
        "  \n",
        "  if summary:\n",
        "    print(model.summary())\n",
        "  \n",
        "  return model"
      ],
      "execution_count": 14,
      "outputs": []
    },
    {
      "cell_type": "code",
      "metadata": {
        "id": "zGi96jUPMVOW",
        "colab": {
          "base_uri": "https://localhost:8080/"
        },
        "outputId": "89eee3e1-964c-48ba-b9f5-26b6353dfc21"
      },
      "source": [
        "EMBEDDING_DIM = 32\n",
        "VOCABULARY_SIZE = len(vocabulary)\n",
        "\n",
        "mlp_model = build_model_mlp(VOCABULARY_SIZE, EMBEDDING_DIM, seq_length_mlp)\n",
        "mlp_history = mlp_model.fit(dataset_mlp, \n",
        "                            epochs=30)"
      ],
      "execution_count": 15,
      "outputs": [
        {
          "output_type": "stream",
          "name": "stdout",
          "text": [
            "Model: \"multi_layer_perceptron\"\n",
            "_________________________________________________________________\n",
            " Layer (type)                Output Shape              Param #   \n",
            "=================================================================\n",
            " input_1 (InputLayer)        [(None, 16)]              0         \n",
            "                                                                 \n",
            " embedding (Embedding)       (None, 16, 32)            1280      \n",
            "                                                                 \n",
            " flatten (Flatten)           (None, 512)               0         \n",
            "                                                                 \n",
            " dense (Dense)               (None, 1024)              525312    \n",
            "                                                                 \n",
            " dropout (Dropout)           (None, 1024)              0         \n",
            "                                                                 \n",
            " dense_1 (Dense)             (None, 1024)              1049600   \n",
            "                                                                 \n",
            " dropout_1 (Dropout)         (None, 1024)              0         \n",
            "                                                                 \n",
            " dense_2 (Dense)             (None, 1024)              1049600   \n",
            "                                                                 \n",
            " dropout_2 (Dropout)         (None, 1024)              0         \n",
            "                                                                 \n",
            " dense_3 (Dense)             (None, 40)                41000     \n",
            "                                                                 \n",
            "=================================================================\n",
            "Total params: 2,666,792\n",
            "Trainable params: 2,666,792\n",
            "Non-trainable params: 0\n",
            "_________________________________________________________________\n"
          ]
        },
        {
          "output_type": "stream",
          "name": "stderr",
          "text": [
            "/usr/local/lib/python3.7/dist-packages/keras/optimizer_v2/adam.py:105: UserWarning: The `lr` argument is deprecated, use `learning_rate` instead.\n",
            "  super(Adam, self).__init__(name, **kwargs)\n"
          ]
        },
        {
          "output_type": "stream",
          "name": "stdout",
          "text": [
            "None\n",
            "Epoch 1/30\n",
            "2414/2414 [==============================] - 19s 6ms/step - loss: 2.1540 - accuracy: 0.3708\n",
            "Epoch 2/30\n",
            "2414/2414 [==============================] - 16s 6ms/step - loss: 1.7465 - accuracy: 0.4822\n",
            "Epoch 3/30\n",
            "2414/2414 [==============================] - 16s 6ms/step - loss: 1.5503 - accuracy: 0.5337\n",
            "Epoch 4/30\n",
            "2414/2414 [==============================] - 15s 6ms/step - loss: 1.4174 - accuracy: 0.5694\n",
            "Epoch 5/30\n",
            "2414/2414 [==============================] - 17s 7ms/step - loss: 1.3131 - accuracy: 0.5953\n",
            "Epoch 6/30\n",
            "2414/2414 [==============================] - 16s 6ms/step - loss: 1.2298 - accuracy: 0.6186\n",
            "Epoch 7/30\n",
            "2414/2414 [==============================] - 16s 6ms/step - loss: 1.1621 - accuracy: 0.6378\n",
            "Epoch 8/30\n",
            "2414/2414 [==============================] - 16s 6ms/step - loss: 1.1049 - accuracy: 0.6522\n",
            "Epoch 9/30\n",
            "2414/2414 [==============================] - 16s 6ms/step - loss: 1.0527 - accuracy: 0.6691\n",
            "Epoch 10/30\n",
            "2414/2414 [==============================] - 16s 6ms/step - loss: 1.0167 - accuracy: 0.6795\n",
            "Epoch 11/30\n",
            "2414/2414 [==============================] - 16s 6ms/step - loss: 0.9699 - accuracy: 0.6935\n",
            "Epoch 12/30\n",
            "2414/2414 [==============================] - 16s 6ms/step - loss: 0.9381 - accuracy: 0.7035\n",
            "Epoch 13/30\n",
            "2414/2414 [==============================] - 16s 6ms/step - loss: 0.9061 - accuracy: 0.7112\n",
            "Epoch 14/30\n",
            "2414/2414 [==============================] - 15s 6ms/step - loss: 0.8836 - accuracy: 0.7199\n",
            "Epoch 15/30\n",
            "2414/2414 [==============================] - 15s 6ms/step - loss: 0.8551 - accuracy: 0.7283\n",
            "Epoch 16/30\n",
            "2414/2414 [==============================] - 16s 6ms/step - loss: 0.8306 - accuracy: 0.7358\n",
            "Epoch 17/30\n",
            "2414/2414 [==============================] - 16s 6ms/step - loss: 0.8110 - accuracy: 0.7421\n",
            "Epoch 18/30\n",
            "2414/2414 [==============================] - 16s 6ms/step - loss: 0.7910 - accuracy: 0.7491\n",
            "Epoch 19/30\n",
            "2414/2414 [==============================] - 16s 6ms/step - loss: 0.7749 - accuracy: 0.7530\n",
            "Epoch 20/30\n",
            "2414/2414 [==============================] - 16s 6ms/step - loss: 0.7552 - accuracy: 0.7597\n",
            "Epoch 21/30\n",
            "2414/2414 [==============================] - 16s 6ms/step - loss: 0.7349 - accuracy: 0.7658\n",
            "Epoch 22/30\n",
            "2414/2414 [==============================] - 16s 6ms/step - loss: 0.7223 - accuracy: 0.7699\n",
            "Epoch 23/30\n",
            "2414/2414 [==============================] - 16s 6ms/step - loss: 0.7109 - accuracy: 0.7749\n",
            "Epoch 24/30\n",
            "2414/2414 [==============================] - 15s 6ms/step - loss: 0.6939 - accuracy: 0.7791\n",
            "Epoch 25/30\n",
            "2414/2414 [==============================] - 15s 6ms/step - loss: 0.6855 - accuracy: 0.7820\n",
            "Epoch 26/30\n",
            "2414/2414 [==============================] - 16s 6ms/step - loss: 0.6713 - accuracy: 0.7860\n",
            "Epoch 27/30\n",
            "2414/2414 [==============================] - 16s 6ms/step - loss: 0.6628 - accuracy: 0.7896\n",
            "Epoch 28/30\n",
            "2414/2414 [==============================] - 16s 6ms/step - loss: 0.6510 - accuracy: 0.7942\n",
            "Epoch 29/30\n",
            "2414/2414 [==============================] - 15s 6ms/step - loss: 0.6414 - accuracy: 0.7968\n",
            "Epoch 30/30\n",
            "2414/2414 [==============================] - 16s 6ms/step - loss: 0.6279 - accuracy: 0.8012\n"
          ]
        }
      ]
    },
    {
      "cell_type": "code",
      "metadata": {
        "id": "-zuS1KQl1gcv",
        "colab": {
          "base_uri": "https://localhost:8080/",
          "height": 562
        },
        "outputId": "6b90ff5b-473f-4c12-9d7d-64368bf6bd05"
      },
      "source": [
        "plot_history(mlp_history)"
      ],
      "execution_count": 16,
      "outputs": [
        {
          "output_type": "display_data",
          "data": {
            "text/plain": [
              "<Figure size 900x600 with 2 Axes>"
            ],
            "image/png": "[encoded data removed]"
          },
          "metadata": {
            "needs_background": "light"
          }
        }
      ]
    },
    {
      "cell_type": "code",
      "metadata": {
        "id": "kuHdSCWMMVRz"
      },
      "source": [
        "def generate_text_mlp(model, start_string, num_generate = 100):\n",
        "  seed_sequence = text_to_sequence(start_string)\n",
        "  generated_text = seed_sequence\n",
        "\n",
        "  for i in range(num_generate):\n",
        "    seed_sequence = tf.expand_dims(generated_text[-16:], 0)\n",
        "    predictions = model(seed_sequence)\n",
        "    predictions = tf.squeeze(predictions, 0)\n",
        "    predicted_id = np.argmax(predictions)\n",
        "    generated_text.append(predicted_id)\n",
        "\n",
        "  return sequence_to_text(generated_text)"
      ],
      "execution_count": 17,
      "outputs": []
    },
    {
      "cell_type": "code",
      "metadata": {
        "id": "MxHIud_jNr_r",
        "colab": {
          "base_uri": "https://localhost:8080/"
        },
        "outputId": "e30d55b0-f558-4f53-b418-94e853784032"
      },
      "source": [
        "print(generate_text_mlp(mlp_model, 'many are saying '))\n",
        "print(generate_text_mlp(mlp_model, 'any are saying i')) "
      ],
      "execution_count": 18,
      "outputs": [
        {
          "output_type": "stream",
          "name": "stdout",
          "text": [
            "many are saying the border wall very dishonest the dems have the bad wis for the strong stual, and theyre even crime\n",
            "any are saying into our many that all amp, where will jobs before fraq couona, and his france of costs two with repu\n"
          ]
        }
      ]
    },
    {
      "cell_type": "markdown",
      "metadata": {
        "id": "ZJyGSr43SX59"
      },
      "source": [
        "# Fully Convolutional Network"
      ]
    },
    {
      "cell_type": "code",
      "metadata": {
        "id": "lIwkp_OuRMAm"
      },
      "source": [
        "from tensorflow.keras import layers, Model\n",
        "from tensorflow.keras.optimizers import Adam\n",
        "\n",
        "def build_model_cnn(vocabulary_size, embedding_dim, input_length, summary=True):\n",
        "\n",
        "  inputs = layers.Input(shape=(input_length))\n",
        "  x = layers.Embedding(vocabulary_size, embedding_dim)(inputs)\n",
        "\n",
        "  x = layers.Conv1D(64, 3, padding='same', activation='relu')(x)\n",
        "  x = layers.Conv1D(64, 3, padding='same', activation='relu')(x)\n",
        "  x=layers.MaxPooling1D(strides=2)(x)\n",
        "  x = layers.Conv1D(128, 3, padding='same', activation='relu')(x)\n",
        "  x = layers.Conv1D(128, 3, padding='same', activation='relu')(x)\n",
        "  x=layers.MaxPooling1D(strides=2)(x)\n",
        "  x = layers.Conv1D(256, 3, padding='same', activation='relu')(x)\n",
        "  x = layers.Conv1D(256, 3, padding='same', activation='relu')(x)\n",
        "\n",
        "  out = layers.Conv1D(vocabulary_size, x.shape[1], activation='softmax')(x)\n",
        "\n",
        "  model = Model(inputs, out, name='fully_convolutional_model')\n",
        "\n",
        "  model.compile(loss='sparse_categorical_crossentropy',\n",
        "              optimizer=Adam(lr=1e-3),\n",
        "              metrics='accuracy')\n",
        "  \n",
        "  if summary:\n",
        "    print(model.summary())\n",
        "  \n",
        "  return model"
      ],
      "execution_count": 19,
      "outputs": []
    },
    {
      "cell_type": "code",
      "metadata": {
        "id": "hHoSN5SPScxL",
        "colab": {
          "base_uri": "https://localhost:8080/",
          "height": 1000
        },
        "outputId": "d616b473-58e2-401f-b921-b588efc271eb"
      },
      "source": [
        "cnn_model = build_model_cnn(VOCABULARY_SIZE, EMBEDDING_DIM, seq_length_mlp)\n",
        "cnn_history = cnn_model.fit(dataset_mlp,\n",
        "                            epochs=30)\n",
        "plot_history(cnn_history)"
      ],
      "execution_count": 20,
      "outputs": [
        {
          "output_type": "stream",
          "name": "stdout",
          "text": [
            "Model: \"fully_convolutional_model\"\n",
            "_________________________________________________________________\n",
            " Layer (type)                Output Shape              Param #   \n",
            "=================================================================\n",
            " input_2 (InputLayer)        [(None, 16)]              0         \n",
            "                                                                 \n",
            " embedding_1 (Embedding)     (None, 16, 32)            1280      \n",
            "                                                                 \n",
            " conv1d (Conv1D)             (None, 16, 64)            6208      \n",
            "                                                                 \n",
            " conv1d_1 (Conv1D)           (None, 16, 64)            12352     \n",
            "                                                                 \n",
            " max_pooling1d (MaxPooling1D  (None, 8, 64)            0         \n",
            " )                                                               \n",
            "                                                                 \n",
            " conv1d_2 (Conv1D)           (None, 8, 128)            24704     \n",
            "                                                                 \n",
            " conv1d_3 (Conv1D)           (None, 8, 128)            49280     \n",
            "                                                                 \n",
            " max_pooling1d_1 (MaxPooling  (None, 4, 128)           0         \n",
            " 1D)                                                             \n",
            "                                                                 \n",
            " conv1d_4 (Conv1D)           (None, 4, 256)            98560     \n",
            "                                                                 \n",
            " conv1d_5 (Conv1D)           (None, 4, 256)            196864    \n",
            "                                                                 \n",
            " conv1d_6 (Conv1D)           (None, 1, 40)             41000     \n",
            "                                                                 \n",
            "=================================================================\n",
            "Total params: 430,248\n",
            "Trainable params: 430,248\n",
            "Non-trainable params: 0\n",
            "_________________________________________________________________\n",
            "None\n",
            "Epoch 1/30\n"
          ]
        },
        {
          "output_type": "stream",
          "name": "stderr",
          "text": [
            "/usr/local/lib/python3.7/dist-packages/keras/optimizer_v2/adam.py:105: UserWarning: The `lr` argument is deprecated, use `learning_rate` instead.\n",
            "  super(Adam, self).__init__(name, **kwargs)\n"
          ]
        },
        {
          "output_type": "stream",
          "name": "stdout",
          "text": [
            "2414/2414 [==============================] - 32s 9ms/step - loss: 2.3283 - accuracy: 0.1060\n",
            "Epoch 2/30\n",
            "2414/2414 [==============================] - 22s 9ms/step - loss: 1.8841 - accuracy: 0.0915\n",
            "Epoch 3/30\n",
            "2414/2414 [==============================] - 22s 9ms/step - loss: 1.7037 - accuracy: 0.0900\n",
            "Epoch 4/30\n",
            "2414/2414 [==============================] - 22s 9ms/step - loss: 1.5906 - accuracy: 0.0896\n",
            "Epoch 5/30\n",
            "2414/2414 [==============================] - 22s 9ms/step - loss: 1.5099 - accuracy: 0.0893\n",
            "Epoch 6/30\n",
            "2414/2414 [==============================] - 22s 9ms/step - loss: 1.4455 - accuracy: 0.0890\n",
            "Epoch 7/30\n",
            "2414/2414 [==============================] - 22s 9ms/step - loss: 1.3931 - accuracy: 0.0886\n",
            "Epoch 8/30\n",
            "2414/2414 [==============================] - 22s 9ms/step - loss: 1.3482 - accuracy: 0.0882\n",
            "Epoch 9/30\n",
            "2414/2414 [==============================] - 22s 9ms/step - loss: 1.3066 - accuracy: 0.0878\n",
            "Epoch 10/30\n",
            "2414/2414 [==============================] - 22s 9ms/step - loss: 1.2636 - accuracy: 0.0875\n",
            "Epoch 11/30\n",
            "2414/2414 [==============================] - 22s 9ms/step - loss: 1.2311 - accuracy: 0.0871\n",
            "Epoch 12/30\n",
            "2414/2414 [==============================] - 22s 9ms/step - loss: 1.1954 - accuracy: 0.0869\n",
            "Epoch 13/30\n",
            "2414/2414 [==============================] - 22s 9ms/step - loss: 1.1604 - accuracy: 0.0864\n",
            "Epoch 14/30\n",
            "2414/2414 [==============================] - 22s 9ms/step - loss: 1.1353 - accuracy: 0.0862\n",
            "Epoch 15/30\n",
            "2414/2414 [==============================] - 22s 9ms/step - loss: 1.1069 - accuracy: 0.0861\n",
            "Epoch 16/30\n",
            "2414/2414 [==============================] - 22s 9ms/step - loss: 1.0771 - accuracy: 0.0858\n",
            "Epoch 17/30\n",
            "2414/2414 [==============================] - 22s 9ms/step - loss: 1.0545 - accuracy: 0.0858\n",
            "Epoch 18/30\n",
            "2414/2414 [==============================] - 22s 9ms/step - loss: 1.0290 - accuracy: 0.0854\n",
            "Epoch 19/30\n",
            "2414/2414 [==============================] - 22s 9ms/step - loss: 1.0127 - accuracy: 0.0854\n",
            "Epoch 20/30\n",
            "2414/2414 [==============================] - 22s 9ms/step - loss: 0.9886 - accuracy: 0.0851\n",
            "Epoch 21/30\n",
            "2414/2414 [==============================] - 22s 9ms/step - loss: 0.9700 - accuracy: 0.0849\n",
            "Epoch 22/30\n",
            "2414/2414 [==============================] - 22s 9ms/step - loss: 0.9485 - accuracy: 0.0849\n",
            "Epoch 23/30\n",
            "2414/2414 [==============================] - 23s 9ms/step - loss: 0.9369 - accuracy: 0.0848\n",
            "Epoch 24/30\n",
            "2414/2414 [==============================] - 22s 9ms/step - loss: 0.9207 - accuracy: 0.0845\n",
            "Epoch 25/30\n",
            "2414/2414 [==============================] - 22s 9ms/step - loss: 0.8978 - accuracy: 0.0846\n",
            "Epoch 26/30\n",
            "2414/2414 [==============================] - 22s 9ms/step - loss: 0.8880 - accuracy: 0.0846\n",
            "Epoch 27/30\n",
            "2414/2414 [==============================] - 22s 9ms/step - loss: 0.8695 - accuracy: 0.0845\n",
            "Epoch 28/30\n",
            "2414/2414 [==============================] - 22s 9ms/step - loss: 0.8582 - accuracy: 0.0846\n",
            "Epoch 29/30\n",
            "2414/2414 [==============================] - 22s 9ms/step - loss: 0.8472 - accuracy: 0.0844\n",
            "Epoch 30/30\n",
            "2414/2414 [==============================] - 22s 9ms/step - loss: 0.8386 - accuracy: 0.0842\n"
          ]
        },
        {
          "output_type": "display_data",
          "data": {
            "text/plain": [
              "<Figure size 900x600 with 2 Axes>"
            ],
            "image/png": "[encoded data removed]"
          },
          "metadata": {
            "needs_background": "light"
          }
        }
      ]
    },
    {
      "cell_type": "markdown",
      "metadata": {
        "id": "p9L2oETtfKuz"
      },
      "source": [
        "## Text Generation"
      ]
    },
    {
      "cell_type": "code",
      "metadata": {
        "id": "5gMsDJgppVy4",
        "colab": {
          "base_uri": "https://localhost:8080/"
        },
        "outputId": "c866effd-3df3-4d9b-95b5-e6148fee647e"
      },
      "source": [
        "print(generate_text_mlp(cnn_model, 'many are saying '))\n",
        "print(generate_text_mlp(cnn_model, 'any are saying i')) # shift invariance\n",
        "print(generate_text_mlp(cnn_model, 'many are saying im the')) # longer sequences"
      ],
      "execution_count": 21,
      "outputs": [
        {
          "output_type": "stream",
          "name": "stdout",
          "text": [
            "many are saying the fact that put the dems cleans a matter to we have to be deal 50 the lames of being pro medial, t\n",
            "any are saying in begins a very will be happened a massive 147 mattem aver contround to crooked h. we will be a for \n",
            "many are saying im there are there thought a preper that despite the trump impeachment hoax am and the 2020 caple make a f\n"
          ]
        }
      ]
    },
    {
      "cell_type": "markdown",
      "metadata": {
        "id": "Z4dmT1ZrF4jK"
      },
      "source": [
        "# Recurrent Neural Network"
      ]
    },
    {
      "cell_type": "code",
      "metadata": {
        "id": "40LuE5W6SfWH"
      },
      "source": [
        "sequences = [text_to_sequence(tweet) for tweet in tweets]"
      ],
      "execution_count": 22,
      "outputs": []
    },
    {
      "cell_type": "code",
      "metadata": {
        "id": "HvagnRdxMqww",
        "colab": {
          "base_uri": "https://localhost:8080/",
          "height": 384
        },
        "outputId": "f43099cd-5032-4cc4-cf1a-ac0cd46cb30b"
      },
      "source": [
        "from matplotlib import pyplot as plt\n",
        "\n",
        "plt.figure(dpi=100)\n",
        "plt.hist([len(x) for x in sequences])\n",
        "plt.xlabel('Sequence Length')\n",
        "plt.ylabel('No. of Sequences')\n",
        "plt.show()"
      ],
      "execution_count": 23,
      "outputs": [
        {
          "output_type": "display_data",
          "data": {
            "text/plain": [
              "<Figure size 600x400 with 1 Axes>"
            ],
            "image/png": "[encoded data removed]"
          },
          "metadata": {
            "needs_background": "light"
          }
        }
      ]
    },
    {
      "cell_type": "code",
      "metadata": {
        "id": "pacAkeKIMq-v"
      },
      "source": [
        "from tensorflow.keras.preprocessing.sequence import pad_sequences\n",
        "\n",
        "sequences = pad_sequences(sequences, \n",
        "                          padding='post',\n",
        "                          value=0)"
      ],
      "execution_count": 24,
      "outputs": []
    },
    {
      "cell_type": "code",
      "metadata": {
        "id": "JzJw2J54FXSf",
        "colab": {
          "base_uri": "https://localhost:8080/"
        },
        "outputId": "cb5accdb-f052-4950-cdc7-4dd903b8e561"
      },
      "source": [
        "dataset = tf.data.Dataset.from_tensor_slices(sequences)\n",
        "\n",
        "for item in dataset.take(5):\n",
        "  print(sequence_to_text(item))\n",
        "\n",
        "print('\\nSequence length:', sequences.shape[1])"
      ],
      "execution_count": 25,
      "outputs": [
        {
          "output_type": "stream",
          "name": "stdout",
          "text": [
            "i was thrilled to be back in the great city of charlotte, north carolina with thousands of hardworking american patriots who love our country, cherish our values, respect our laws, and always put america first thank you for a wonderful evening kag2020 \n",
            "the unsolicited mail in ballot scam is a major threat to our democracy, amp the democrats know it. almost all recent elections using this system, even though much smaller amp  with far fewer ballots to count, have ended up being a disaster. large numbers of missing ballots amp fraud\n",
            "the threshold identification of ballots is turning out to be even bigger than originally anticipated. a very large number of ballots are impacted. stay tuned\n",
            "im running as a proud democrat, for the senate. sleepy joe biden today. its only going to get worse. it is not sustainable for our county  china will own us\n",
            "huge win today for the united states and for peace in the world. sudan has agreed to a peace and normalization agreement with israel with the united arab emirates and bahrain, thats three arabcountries to have done so in only a matter of weeks. more will follow \n",
            "\n",
            "Sequence length: 291\n"
          ]
        }
      ]
    },
    {
      "cell_type": "code",
      "metadata": {
        "id": "pTiD5N1bMrGV",
        "colab": {
          "base_uri": "https://localhost:8080/"
        },
        "outputId": "45cbbf77-a49e-4ca7-ecff-46722534ac09"
      },
      "source": [
        "def split_input_target(sequence):\n",
        "  input_sequence = sequence[:-1]\n",
        "  target_sequence = sequence[1:]\n",
        "  return input_sequence, target_sequence\n",
        "\n",
        "dataset = dataset.map(split_input_target)\n",
        "print(dataset)"
      ],
      "execution_count": 26,
      "outputs": [
        {
          "output_type": "stream",
          "name": "stdout",
          "text": [
            "<MapDataset element_spec=(TensorSpec(shape=(290,), dtype=tf.int32, name=None), TensorSpec(shape=(290,), dtype=tf.int32, name=None))>\n"
          ]
        }
      ]
    },
    {
      "cell_type": "code",
      "metadata": {
        "id": "MsmId8zKBQF9",
        "colab": {
          "base_uri": "https://localhost:8080/"
        },
        "outputId": "bc25468c-4a1c-4dec-97a6-bbb2b6e7a581"
      },
      "source": [
        "for input_sample, target_sample in dataset.take(3):\n",
        "  print('Input sequence: \"{}\"'.format(sequence_to_text(input_sample)))\n",
        "  print('Target sequence: \"{}\"'.format(sequence_to_text(target_sample)))\n",
        "  print()"
      ],
      "execution_count": 27,
      "outputs": [
        {
          "output_type": "stream",
          "name": "stdout",
          "text": [
            "Input sequence: \"i was thrilled to be back in the great city of charlotte, north carolina with thousands of hardworking american patriots who love our country, cherish our values, respect our laws, and always put america first thank you for a wonderful evening kag2020 \"\n",
            "Target sequence: \" was thrilled to be back in the great city of charlotte, north carolina with thousands of hardworking american patriots who love our country, cherish our values, respect our laws, and always put america first thank you for a wonderful evening kag2020 \"\n",
            "\n",
            "Input sequence: \"the unsolicited mail in ballot scam is a major threat to our democracy, amp the democrats know it. almost all recent elections using this system, even though much smaller amp  with far fewer ballots to count, have ended up being a disaster. large numbers of missing ballots amp fraud\"\n",
            "Target sequence: \"he unsolicited mail in ballot scam is a major threat to our democracy, amp the democrats know it. almost all recent elections using this system, even though much smaller amp  with far fewer ballots to count, have ended up being a disaster. large numbers of missing ballots amp fraud\"\n",
            "\n",
            "Input sequence: \"the threshold identification of ballots is turning out to be even bigger than originally anticipated. a very large number of ballots are impacted. stay tuned\"\n",
            "Target sequence: \"he threshold identification of ballots is turning out to be even bigger than originally anticipated. a very large number of ballots are impacted. stay tuned\"\n",
            "\n"
          ]
        }
      ]
    },
    {
      "cell_type": "code",
      "metadata": {
        "id": "RB9z1M9ziEZ3"
      },
      "source": [
        "BATCH_SIZE = 64\n",
        "BUFFER_SIZE = 10000\n",
        "EMBEDDING_DIM = 32\n",
        "VOCABULARY_SIZE = len(vocabulary)"
      ],
      "execution_count": 28,
      "outputs": []
    },
    {
      "cell_type": "code",
      "metadata": {
        "id": "UXMbEs8ABNzP",
        "colab": {
          "base_uri": "https://localhost:8080/"
        },
        "outputId": "c97e834a-20d8-4d06-b81c-994cf0e871c7"
      },
      "source": [
        "dataset = dataset.shuffle(BUFFER_SIZE).batch(BATCH_SIZE, drop_remainder=True)\n",
        "print(dataset)"
      ],
      "execution_count": 29,
      "outputs": [
        {
          "output_type": "stream",
          "name": "stdout",
          "text": [
            "<BatchDataset element_spec=(TensorSpec(shape=(64, 290), dtype=tf.int32, name=None), TensorSpec(shape=(64, 290), dtype=tf.int32, name=None))>\n"
          ]
        }
      ]
    },
    {
      "cell_type": "code",
      "metadata": {
        "id": "cZSAwzCAGXVW"
      },
      "source": [
        "from tensorflow.keras import layers, Model\n",
        "from tensorflow.keras.optimizers import Adam\n",
        "\n",
        "def build_model_gru(vocabulary_size, embedding_dim, batch_size, summary=True):\n",
        "  \n",
        "  inputs = layers.Input(batch_input_shape=(batch_size, None,))\n",
        "  \n",
        "  x = layers.Embedding(vocabulary_size,\n",
        "                       embedding_dim)(inputs)\n",
        "\n",
        "  x = layers.GRU(1024, return_sequences=True, stateful=False)(x)\n",
        "  x = layers.Dropout(.2)(x)\n",
        "  out = layers.Dense(vocabulary_size, activation='softmax')(x)\n",
        "\n",
        "  model = Model(inputs, out, name='gated_recurrent_unit')\n",
        "\n",
        "  model.compile(loss='sparse_categorical_crossentropy',\n",
        "                optimizer=Adam(lr=1e-3),\n",
        "                metrics='accuracy')\n",
        "  \n",
        "  if summary:\n",
        "    print(model.summary())\n",
        "  \n",
        "  return model"
      ],
      "execution_count": 30,
      "outputs": []
    },
    {
      "cell_type": "code",
      "metadata": {
        "id": "xdZij_8FGXX2",
        "colab": {
          "base_uri": "https://localhost:8080/",
          "height": 1000
        },
        "outputId": "bd9e28a0-fb12-43d1-b599-6945e9958a6f"
      },
      "source": [
        "gru_model = build_model_gru(VOCABULARY_SIZE, EMBEDDING_DIM, BATCH_SIZE)\n",
        "gru_history = gru_model.fit(dataset, \n",
        "                            epochs=30\n",
        "                            )\n",
        "plot_history(gru_history)"
      ],
      "execution_count": 31,
      "outputs": [
        {
          "output_type": "stream",
          "name": "stdout",
          "text": [
            "Model: \"gated_recurrent_unit\"\n",
            "_________________________________________________________________\n",
            " Layer (type)                Output Shape              Param #   \n",
            "=================================================================\n",
            " input_3 (InputLayer)        [(64, None)]              0         \n",
            "                                                                 \n",
            " embedding_2 (Embedding)     (64, None, 32)            1280      \n",
            "                                                                 \n",
            " gru (GRU)                   (64, None, 1024)          3250176   \n",
            "                                                                 \n",
            " dropout_3 (Dropout)         (64, None, 1024)          0         \n",
            "                                                                 \n",
            " dense_4 (Dense)             (64, None, 40)            41000     \n",
            "                                                                 \n",
            "=================================================================\n",
            "Total params: 3,292,456\n",
            "Trainable params: 3,292,456\n",
            "Non-trainable params: 0\n",
            "_________________________________________________________________\n",
            "None\n",
            "Epoch 1/30\n"
          ]
        },
        {
          "output_type": "stream",
          "name": "stderr",
          "text": [
            "/usr/local/lib/python3.7/dist-packages/keras/optimizer_v2/adam.py:105: UserWarning: The `lr` argument is deprecated, use `learning_rate` instead.\n",
            "  super(Adam, self).__init__(name, **kwargs)\n"
          ]
        },
        {
          "output_type": "stream",
          "name": "stdout",
          "text": [
            "231/231 [==============================] - 34s 135ms/step - loss: 1.9326 - accuracy: 0.4859\n",
            "Epoch 2/30\n",
            "231/231 [==============================] - 31s 135ms/step - loss: 1.4503 - accuracy: 0.5792\n",
            "Epoch 3/30\n",
            "231/231 [==============================] - 31s 133ms/step - loss: 1.3044 - accuracy: 0.6194\n",
            "Epoch 4/30\n",
            "231/231 [==============================] - 32s 136ms/step - loss: 1.1317 - accuracy: 0.6712\n",
            "Epoch 5/30\n",
            "231/231 [==============================] - 31s 134ms/step - loss: 0.9868 - accuracy: 0.7133\n",
            "Epoch 6/30\n",
            "231/231 [==============================] - 31s 135ms/step - loss: 0.8914 - accuracy: 0.7402\n",
            "Epoch 7/30\n",
            "231/231 [==============================] - 32s 135ms/step - loss: 0.8288 - accuracy: 0.7572\n",
            "Epoch 8/30\n",
            "231/231 [==============================] - 32s 136ms/step - loss: 0.7832 - accuracy: 0.7696\n",
            "Epoch 9/30\n",
            "231/231 [==============================] - 31s 135ms/step - loss: 0.7489 - accuracy: 0.7787\n",
            "Epoch 10/30\n",
            "231/231 [==============================] - 32s 135ms/step - loss: 0.7199 - accuracy: 0.7863\n",
            "Epoch 11/30\n",
            "231/231 [==============================] - 31s 135ms/step - loss: 0.6951 - accuracy: 0.7930\n",
            "Epoch 12/30\n",
            "231/231 [==============================] - 32s 135ms/step - loss: 0.6739 - accuracy: 0.7986\n",
            "Epoch 13/30\n",
            "231/231 [==============================] - 31s 135ms/step - loss: 0.6536 - accuracy: 0.8040\n",
            "Epoch 14/30\n",
            "231/231 [==============================] - 31s 135ms/step - loss: 0.6362 - accuracy: 0.8088\n",
            "Epoch 15/30\n",
            "231/231 [==============================] - 31s 134ms/step - loss: 0.6196 - accuracy: 0.8131\n",
            "Epoch 16/30\n",
            "231/231 [==============================] - 32s 136ms/step - loss: 0.6043 - accuracy: 0.8171\n",
            "Epoch 17/30\n",
            "231/231 [==============================] - 31s 134ms/step - loss: 0.5896 - accuracy: 0.8211\n",
            "Epoch 18/30\n",
            "231/231 [==============================] - 32s 136ms/step - loss: 0.5763 - accuracy: 0.8248\n",
            "Epoch 19/30\n",
            "231/231 [==============================] - 32s 135ms/step - loss: 0.5646 - accuracy: 0.8280\n",
            "Epoch 20/30\n",
            "231/231 [==============================] - 31s 135ms/step - loss: 0.5541 - accuracy: 0.8307\n",
            "Epoch 21/30\n",
            "231/231 [==============================] - 31s 135ms/step - loss: 0.5441 - accuracy: 0.8335\n",
            "Epoch 22/30\n",
            "231/231 [==============================] - 32s 136ms/step - loss: 0.5358 - accuracy: 0.8357\n",
            "Epoch 23/30\n",
            "231/231 [==============================] - 31s 133ms/step - loss: 0.5282 - accuracy: 0.8377\n",
            "Epoch 24/30\n",
            "231/231 [==============================] - 31s 135ms/step - loss: 0.5216 - accuracy: 0.8394\n",
            "Epoch 25/30\n",
            "231/231 [==============================] - 32s 136ms/step - loss: 0.5145 - accuracy: 0.8411\n",
            "Epoch 26/30\n",
            "231/231 [==============================] - 31s 135ms/step - loss: 0.5089 - accuracy: 0.8428\n",
            "Epoch 27/30\n",
            "231/231 [==============================] - 31s 134ms/step - loss: 0.5044 - accuracy: 0.8439\n",
            "Epoch 28/30\n",
            "231/231 [==============================] - 31s 135ms/step - loss: 0.4995 - accuracy: 0.8452\n",
            "Epoch 29/30\n",
            "231/231 [==============================] - 31s 135ms/step - loss: 0.4945 - accuracy: 0.8466\n",
            "Epoch 30/30\n",
            "231/231 [==============================] - 31s 133ms/step - loss: 0.4912 - accuracy: 0.8474\n"
          ]
        },
        {
          "output_type": "display_data",
          "data": {
            "text/plain": [
              "<Figure size 900x600 with 2 Axes>"
            ],
            "image/png": "[encoded data removed]"
          },
          "metadata": {
            "needs_background": "light"
          }
        }
      ]
    },
    {
      "cell_type": "code",
      "metadata": {
        "id": "aWR3lLS6KQQq",
        "colab": {
          "base_uri": "https://localhost:8080/"
        },
        "outputId": "a2179235-f7fb-405b-cfa3-1654da19fbdd"
      },
      "source": [
        "gru_history = gru_model.fit(dataset, \n",
        "                            epochs=30\n",
        "                            )"
      ],
      "execution_count": 32,
      "outputs": [
        {
          "output_type": "stream",
          "name": "stdout",
          "text": [
            "Epoch 1/30\n",
            "231/231 [==============================] - 31s 135ms/step - loss: 0.4878 - accuracy: 0.8485\n",
            "Epoch 2/30\n",
            "231/231 [==============================] - 31s 132ms/step - loss: 0.4841 - accuracy: 0.8494\n",
            "Epoch 3/30\n",
            "231/231 [==============================] - 31s 132ms/step - loss: 0.4812 - accuracy: 0.8502\n",
            "Epoch 4/30\n",
            "231/231 [==============================] - 31s 133ms/step - loss: 0.4782 - accuracy: 0.8511\n",
            "Epoch 5/30\n",
            "231/231 [==============================] - 31s 132ms/step - loss: 0.4757 - accuracy: 0.8517\n",
            "Epoch 6/30\n",
            "231/231 [==============================] - 31s 133ms/step - loss: 0.4724 - accuracy: 0.8525\n",
            "Epoch 7/30\n",
            "231/231 [==============================] - 31s 131ms/step - loss: 0.4705 - accuracy: 0.8530\n",
            "Epoch 8/30\n",
            "231/231 [==============================] - 31s 131ms/step - loss: 0.4683 - accuracy: 0.8536\n",
            "Epoch 9/30\n",
            "231/231 [==============================] - 31s 132ms/step - loss: 0.4663 - accuracy: 0.8540\n",
            "Epoch 10/30\n",
            "231/231 [==============================] - 31s 135ms/step - loss: 0.4643 - accuracy: 0.8547\n",
            "Epoch 11/30\n",
            "231/231 [==============================] - 32s 135ms/step - loss: 0.4620 - accuracy: 0.8554\n",
            "Epoch 12/30\n",
            "231/231 [==============================] - 32s 136ms/step - loss: 0.4601 - accuracy: 0.8558\n",
            "Epoch 13/30\n",
            "231/231 [==============================] - 32s 135ms/step - loss: 0.4583 - accuracy: 0.8563\n",
            "Epoch 14/30\n",
            "231/231 [==============================] - 32s 135ms/step - loss: 0.4572 - accuracy: 0.8565\n",
            "Epoch 15/30\n",
            "231/231 [==============================] - 31s 135ms/step - loss: 0.4561 - accuracy: 0.8568\n",
            "Epoch 16/30\n",
            "231/231 [==============================] - 32s 135ms/step - loss: 0.4536 - accuracy: 0.8576\n",
            "Epoch 17/30\n",
            "231/231 [==============================] - 32s 136ms/step - loss: 0.4529 - accuracy: 0.8579\n",
            "Epoch 18/30\n",
            "231/231 [==============================] - 32s 135ms/step - loss: 0.4510 - accuracy: 0.8581\n",
            "Epoch 19/30\n",
            "231/231 [==============================] - 32s 136ms/step - loss: 0.4496 - accuracy: 0.8586\n",
            "Epoch 20/30\n",
            "231/231 [==============================] - 32s 135ms/step - loss: 0.4478 - accuracy: 0.8590\n",
            "Epoch 21/30\n",
            "231/231 [==============================] - 31s 135ms/step - loss: 0.4467 - accuracy: 0.8593\n",
            "Epoch 22/30\n",
            "231/231 [==============================] - 31s 134ms/step - loss: 0.4453 - accuracy: 0.8598\n",
            "Epoch 23/30\n",
            "231/231 [==============================] - 32s 135ms/step - loss: 0.4448 - accuracy: 0.8599\n",
            "Epoch 24/30\n",
            "231/231 [==============================] - 32s 136ms/step - loss: 0.4426 - accuracy: 0.8606\n",
            "Epoch 25/30\n",
            "231/231 [==============================] - 31s 135ms/step - loss: 0.4422 - accuracy: 0.8607\n",
            "Epoch 26/30\n",
            "231/231 [==============================] - 32s 136ms/step - loss: 0.4401 - accuracy: 0.8612\n",
            "Epoch 27/30\n",
            "231/231 [==============================] - 32s 135ms/step - loss: 0.4394 - accuracy: 0.8614\n",
            "Epoch 28/30\n",
            "231/231 [==============================] - 31s 135ms/step - loss: 0.4382 - accuracy: 0.8617\n",
            "Epoch 29/30\n",
            "231/231 [==============================] - 31s 134ms/step - loss: 0.4368 - accuracy: 0.8621\n",
            "Epoch 30/30\n",
            "231/231 [==============================] - 32s 136ms/step - loss: 0.4362 - accuracy: 0.8621\n"
          ]
        }
      ]
    },
    {
      "cell_type": "markdown",
      "metadata": {
        "id": "jZQtP4EpLOoX"
      },
      "source": [
        "## Generate Text"
      ]
    },
    {
      "cell_type": "code",
      "metadata": {
        "id": "htW79CMViYJK",
        "colab": {
          "base_uri": "https://localhost:8080/"
        },
        "outputId": "2d5d9d5d-65c8-42b6-a785-9ec3c3cbe0a0"
      },
      "source": [
        "weights_file = '/tmp/gru_model_weights'\n",
        "gru_model.save_weights(weights_file)\n",
        "tweety = build_model_gru(VOCABULARY_SIZE, EMBEDDING_DIM, 1)\n",
        "tweety.load_weights(weights_file)"
      ],
      "execution_count": 33,
      "outputs": [
        {
          "output_type": "stream",
          "name": "stdout",
          "text": [
            "Model: \"gated_recurrent_unit\"\n",
            "_________________________________________________________________\n",
            " Layer (type)                Output Shape              Param #   \n",
            "=================================================================\n",
            " input_4 (InputLayer)        [(1, None)]               0         \n",
            "                                                                 \n",
            " embedding_3 (Embedding)     (1, None, 32)             1280      \n",
            "                                                                 \n",
            " gru_1 (GRU)                 (1, None, 1024)           3250176   \n",
            "                                                                 \n",
            " dropout_4 (Dropout)         (1, None, 1024)           0         \n",
            "                                                                 \n",
            " dense_5 (Dense)             (1, None, 40)             41000     \n",
            "                                                                 \n",
            "=================================================================\n",
            "Total params: 3,292,456\n",
            "Trainable params: 3,292,456\n",
            "Non-trainable params: 0\n",
            "_________________________________________________________________\n",
            "None\n"
          ]
        },
        {
          "output_type": "stream",
          "name": "stderr",
          "text": [
            "/usr/local/lib/python3.7/dist-packages/keras/optimizer_v2/adam.py:105: UserWarning: The `lr` argument is deprecated, use `learning_rate` instead.\n",
            "  super(Adam, self).__init__(name, **kwargs)\n"
          ]
        },
        {
          "output_type": "execute_result",
          "data": {
            "text/plain": [
              "<tensorflow.python.training.tracking.util.CheckpointLoadStatus at 0x7f28aa91ab90>"
            ]
          },
          "metadata": {},
          "execution_count": 33
        }
      ]
    },
    {
      "cell_type": "code",
      "metadata": {
        "id": "FKLPbAPTLN-o"
      },
      "source": [
        "def generate_text(model, start_string, num_generate=100):\n",
        "  seed_sequence = text_to_sequence(start_string)\n",
        "  text_generated = seed_sequence\n",
        "  seed_sequence = tf.expand_dims(seed_sequence, 0)\n",
        "  model.reset_states()\n",
        "\n",
        "  for i in range(num_generate):\n",
        "    predictions = model(seed_sequence)\n",
        "    predictions = tf.squeeze(predictions, 0)\n",
        "    predicted_id = np.argmax(predictions[-1,:])\n",
        "    text_generated.append(predicted_id)\n",
        "    seed_sequence = tf.expand_dims([predicted_id], 0)\n",
        "\n",
        "  return sequence_to_text(text_generated)"
      ],
      "execution_count": 34,
      "outputs": []
    },
    {
      "cell_type": "code",
      "metadata": {
        "id": "bKeXh5UX1FLc",
        "colab": {
          "base_uri": "https://localhost:8080/"
        },
        "outputId": "04a29c54-aa73-48c3-f68a-467e0eccca48"
      },
      "source": [
        "print(generate_text(tweety, 'many are saying '))\n",
        "print(generate_text(tweety, 'any are saying i'))\n",
        "print(generate_text(tweety, 'many are saying im the'))\n",
        "print(generate_text(tweety, 'many'))"
      ],
      "execution_count": 35,
      "outputs": [
        {
          "output_type": "stream",
          "name": "stdout",
          "text": [
            "many are saying thevevevevevevevevevevevevevevevevevevevevevevevevevevevevevevevevevevevevevevevevevevevevevevevevev\n",
            "any are saying inononononononononononononononononononononononononononononononononononononononononononononononononono\n",
            "many are saying im the wheveveveveveveveveveveveveveveveveveveveveveveveveveveveveveveveveveveveveveveveveveveveveveveveve\n",
            "many wheveveveveveveveveveveveveveveveveveveveveveveveveveveveveveveveveveveveveveveveveveveveveveveveve\n"
          ]
        }
      ]
    }
  ]
}